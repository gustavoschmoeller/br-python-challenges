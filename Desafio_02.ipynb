{
  "nbformat": 4,
  "nbformat_minor": 0,
  "metadata": {
    "anaconda-cloud": {},
    "kernelspec": {
      "display_name": "Python 3",
      "language": "python",
      "name": "python3"
    },
    "language_info": {
      "codemirror_mode": {
        "name": "ipython",
        "version": 3
      },
      "file_extension": ".py",
      "mimetype": "text/x-python",
      "name": "python",
      "nbconvert_exporter": "python",
      "pygments_lexer": "ipython3",
      "version": "3.6.5"
    },
    "colab": {
      "name": "Desafio 2.ipynb",
      "provenance": [],
      "include_colab_link": true
    }
  },
  "cells": [
    {
      "cell_type": "markdown",
      "metadata": {
        "id": "view-in-github",
        "colab_type": "text"
      },
      "source": [
        "<a href=\"https://colab.research.google.com/github/gustavoschmoeller/br-python-challenges/blob/master/Desafio_02.ipynb\" target=\"_parent\"><img src=\"https://colab.research.google.com/assets/colab-badge.svg\" alt=\"Open In Colab\"/></a>"
      ]
    },
    {
      "cell_type": "markdown",
      "metadata": {
        "id": "q1NCks7Af6JN",
        "colab_type": "text"
      },
      "source": [
        "### Desafio 2\n",
        "\n",
        "Escreva uma função que recebe um número inteiro de horas e a converte em segundos.\n",
        "\n",
        "Exemplo:\n",
        "\n",
        "convert(5) ➞ 18000\n",
        "\n",
        "convert(3) ➞ 10800\n",
        "\n",
        "convert(2) ➞ 7200"
      ]
    },
    {
      "cell_type": "code",
      "metadata": {
        "id": "sSm6F7sff6JO",
        "colab_type": "code",
        "colab": {
          "base_uri": "https://localhost:8080/",
          "height": 34
        },
        "outputId": "fa5c5711-58da-4705-f6bb-9d3e4500b029"
      },
      "source": [
        "def convert_to_sec(n):\n",
        "    segundos = n * 3600; \n",
        "   \n",
        "    print(segundos, \"Segundos\");\n",
        "\n",
        "n = 2;\n",
        "convert_to_sec(n);"
      ],
      "execution_count": 31,
      "outputs": [
        {
          "output_type": "stream",
          "text": [
            "7200 Segundos\n"
          ],
          "name": "stdout"
        }
      ]
    },
    {
      "cell_type": "code",
      "metadata": {
        "id": "FoHZxyK-B11t",
        "colab_type": "code",
        "colab": {}
      },
      "source": [
        ""
      ],
      "execution_count": null,
      "outputs": []
    }
  ]
}