{
 "cells": [
  {
   "cell_type": "markdown",
   "metadata": {
    "colab_type": "text",
    "id": "view-in-github"
   },
   "source": [
    "<a href=\"https://colab.research.google.com/github/WittmannF/br-data-science/blob/master/python/challenges/Desafio_8.ipynb\" target=\"_parent\"><img src=\"https://colab.research.google.com/assets/colab-badge.svg\" alt=\"Open In Colab\"/></a>"
   ]
  },
  {
   "cell_type": "markdown",
   "metadata": {
    "colab_type": "text",
    "id": "o3tkeMDNf6Jo"
   },
   "source": [
    "### Desafio 8\n",
    "\n",
    "Escreva um script Python para encontrar as 10 palavras mais longas em um arquivo.\n",
    "\n",
    "O arquivo TXT está localizado na mesma pasta do projeto (texto.txt)."
   ]
  },
  {
   "cell_type": "code",
   "execution_count": 1,
   "metadata": {
    "colab": {},
    "colab_type": "code",
    "id": "EknxjSG0f6Jo"
   },
   "outputs": [],
   "source": [
    "# Leitura do arquivo\n",
    "\n",
    "import urllib.request\n",
    "content=urllib.request.urlopen(\"https://raw.githubusercontent.com/neveSZ/br-python-challenges/master/texto.txt\").read().decode('utf-8')"
   ]
  },
  {
   "cell_type": "code",
   "execution_count": 5,
   "metadata": {},
   "outputs": [
    {
     "name": "stdout",
     "output_type": "stream",
     "text": [
      "['management', 'high-level', 'programmers', 'readability', 'programming', 'interpreted', 'intermediate', 'comprehensive', 'object-oriented', 'general-purpose']\n"
     ]
    }
   ],
   "source": [
    "# Substituir caracteres por espaco\n",
    "txt = content.replace('?', ' ').replace(',', ' ').replace('.', ' ').replace('(', ' ').replace(')', ' ').replace('\\n', ' ').replace('\\r', ' ')\n",
    "\n",
    "# Remover os espacos\n",
    "txt = txt.split()\n",
    "\n",
    "# Tornar as palavras unicas e ordena-las\n",
    "txt = sorted(set(txt), key=len)\n",
    "\n",
    "# Pegar as 10 maiores\n",
    "dez_maiores = txt[-10:]\n",
    "\n",
    "print(dez_maiores)"
   ]
  },
  {
   "cell_type": "code",
   "execution_count": null,
   "metadata": {},
   "outputs": [],
   "source": []
  }
 ],
 "metadata": {
  "anaconda-cloud": {},
  "colab": {
   "include_colab_link": true,
   "name": "Desafio 8.ipynb",
   "provenance": []
  },
  "kernelspec": {
   "display_name": "Python 3",
   "language": "python",
   "name": "python3"
  },
  "language_info": {
   "codemirror_mode": {
    "name": "ipython",
    "version": 3
   },
   "file_extension": ".py",
   "mimetype": "text/x-python",
   "name": "python",
   "nbconvert_exporter": "python",
   "pygments_lexer": "ipython3",
   "version": "3.7.6"
  }
 },
 "nbformat": 4,
 "nbformat_minor": 1
}
